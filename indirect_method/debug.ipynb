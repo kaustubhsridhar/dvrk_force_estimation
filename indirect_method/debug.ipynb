{
 "cells": [
  {
   "cell_type": "code",
   "execution_count": 1,
   "metadata": {},
   "outputs": [
    {
     "name": "stdout",
     "output_type": "stream",
     "text": [
      "(8044, 6) 10.330129 -2.6847208\n"
     ]
    }
   ],
   "source": [
    "from os.path import join \n",
    "import numpy as np \n",
    "\n",
    "joint_path = join('..', 'bilateral_free_space_sep_27', 'test', 'psm1_mary', 'free_space', 'joints')\n",
    "all_joints = np.loadtxt(join(joint_path, 'interpolated_all_joints.csv'), delimiter=',')\n",
    "torque = all_joints[:, np.array([13,14,15,16,17,18])].astype('float32')\n",
    "print(torque.shape, torque.max(), torque.min())"
   ]
  },
  {
   "cell_type": "code",
   "execution_count": null,
   "metadata": {},
   "outputs": [],
   "source": []
  }
 ],
 "metadata": {
  "kernelspec": {
   "display_name": "DL_env",
   "language": "python",
   "name": "python3"
  },
  "language_info": {
   "codemirror_mode": {
    "name": "ipython",
    "version": 3
   },
   "file_extension": ".py",
   "mimetype": "text/x-python",
   "name": "python",
   "nbconvert_exporter": "python",
   "pygments_lexer": "ipython3",
   "version": "3.9.18"
  }
 },
 "nbformat": 4,
 "nbformat_minor": 2
}
